{
 "cells": [
  {
   "cell_type": "code",
   "execution_count": 3,
   "id": "654e3cfa-d794-4911-9a46-13f0c1314363",
   "metadata": {},
   "outputs": [],
   "source": [
    "import numpy as np\n",
    "import pandas as pd"
   ]
  },
  {
   "cell_type": "code",
   "execution_count": 30,
   "id": "2d0fb385-385b-490b-9e4a-9d497d2f5a2e",
   "metadata": {},
   "outputs": [],
   "source": [
    "roat = \"G:/Otros ordenadores/Mi Portátil/Gaspar/Analisis de datos/Free code camp/Demographic Data Analyzer/adult.data (1).csv\"\n",
    "\n",
    "adult_data = pd.read_csv(roat)"
   ]
  },
  {
   "cell_type": "markdown",
   "id": "a0b5325d-b066-416a-b6a7-21b10d96c18f",
   "metadata": {},
   "source": [
    "**How many people of each race are represented in this dataset?**"
   ]
  },
  {
   "cell_type": "code",
   "execution_count": 46,
   "id": "454f62c5-a118-47f8-a1ca-bccad300923f",
   "metadata": {},
   "outputs": [],
   "source": [
    "# creacion de una serie con todos los tipos de razas \n",
    "race_index = pd.Series(adult_data.drop_duplicates(subset= \"race\")[\"race\"])"
   ]
  },
  {
   "cell_type": "code",
   "execution_count": 47,
   "id": "e714736f-ecb3-4032-88bd-c788f3bb6c0d",
   "metadata": {},
   "outputs": [
    {
     "data": {
      "text/plain": [
       "0                  White\n",
       "3                  Black\n",
       "11    Asian-Pac-Islander\n",
       "15    Amer-Indian-Eskimo\n",
       "50                 Other\n",
       "Name: race, dtype: object"
      ]
     },
     "execution_count": 47,
     "metadata": {},
     "output_type": "execute_result"
    }
   ],
   "source": [
    "race_index"
   ]
  },
  {
   "cell_type": "code",
   "execution_count": 50,
   "id": "33ec38bc-564f-42b1-a1b5-72cb80d8ccf1",
   "metadata": {},
   "outputs": [
    {
     "data": {
      "text/plain": [
       "race\n",
       "White                 27816\n",
       "Black                  3124\n",
       "Asian-Pac-Islander     1039\n",
       "Amer-Indian-Eskimo      311\n",
       "Other                   271\n",
       "dtype: int64"
      ]
     },
     "execution_count": 50,
     "metadata": {},
     "output_type": "execute_result"
    }
   ],
   "source": [
    "pd.Series(\n",
    "# para cada tipo de raza en la columna race de adult_data, creamos una serie y hacemos un recuante de los elementos de la misma\n",
    "    [pd.Series(adult_data[\"race\"])[pd.Series(adult_data[\"race\"]) == \"White\" ].count(),\n",
    "     pd.Series(adult_data[\"race\"])[pd.Series(adult_data[\"race\"]) == \"Black\" ].count(),\n",
    "     pd.Series(adult_data[\"race\"])[pd.Series(adult_data[\"race\"]) == \"Asian-Pac-Islander\"].count(),\n",
    "     pd.Series(adult_data[\"race\"])[pd.Series(adult_data[\"race\"]) == \"Amer-Indian-Eskimo\" ].count(),\n",
    "     pd.Series(adult_data[\"race\"])[pd.Series(adult_data[\"race\"]) == \"Other\" ].count()\n",
    "    ], index = race_index\n",
    ")"
   ]
  },
  {
   "cell_type": "markdown",
   "id": "e6790a4f-364e-45e4-8925-bfbb4117ebe8",
   "metadata": {},
   "source": [
    "**What is the average age of men?**"
   ]
  },
  {
   "cell_type": "code",
   "execution_count": 67,
   "id": "075a3d74-2c4f-49df-a3de-ac23831e99c9",
   "metadata": {},
   "outputs": [
    {
     "data": {
      "text/plain": [
       "39.43"
      ]
     },
     "execution_count": 67,
     "metadata": {},
     "output_type": "execute_result"
    }
   ],
   "source": [
    "#seleccion de las filas, en las que el sexo es masculino \n",
    "male = adult_data[ adult_data['sex'] == \"Male\"]\n",
    "\n",
    "mean_men_age = round(male[\"age\"].mean(),2) \n",
    "\n",
    "mean_men_age"
   ]
  },
  {
   "cell_type": "markdown",
   "id": "e63c80c8-5042-46e9-8716-2495c2cef157",
   "metadata": {},
   "source": [
    "**What is the percentage of people who have a Bachelor's degree?**"
   ]
  },
  {
   "cell_type": "code",
   "execution_count": 68,
   "id": "6baa63ed-96af-41a7-a043-6e239aa59a17",
   "metadata": {},
   "outputs": [
    {
     "data": {
      "text/plain": [
       "32561"
      ]
     },
     "execution_count": 68,
     "metadata": {},
     "output_type": "execute_result"
    }
   ],
   "source": [
    "# cantidad de elemento en la columna \"education\"\n",
    "adult_data['education'].count()"
   ]
  },
  {
   "cell_type": "code",
   "execution_count": 80,
   "id": "f5c53815-4dc8-458b-9bb1-551fc9fb1d41",
   "metadata": {},
   "outputs": [
    {
     "data": {
      "text/plain": [
       "5355"
      ]
     },
     "execution_count": 80,
     "metadata": {},
     "output_type": "execute_result"
    }
   ],
   "source": [
    "# cantiad de personas con una licenciatura\n",
    "adult_data.loc[adult_data[\"education\"] == \"Bachelors\", \"education\"].count()"
   ]
  },
  {
   "cell_type": "code",
   "execution_count": 82,
   "id": "7457704e-7f95-463c-9d3f-360998b3d4bc",
   "metadata": {},
   "outputs": [
    {
     "data": {
      "text/plain": [
       "'16.45%'"
      ]
     },
     "execution_count": 82,
     "metadata": {},
     "output_type": "execute_result"
    }
   ],
   "source": [
    "# calculo del porcentaje \n",
    "Bachelors_degree_people_percent = adult_data.loc[adult_data[\"education\"] == \"Bachelors\", \"education\"].count() / adult_data['education'].count()\n",
    "\n",
    "\"{:.2%}\".format(Bachelors_degree_people_percent)"
   ]
  },
  {
   "cell_type": "code",
   "execution_count": null,
   "id": "f22ba682-8def-40fe-acc5-c85b99059093",
   "metadata": {},
   "outputs": [],
   "source": []
  }
 ],
 "metadata": {
  "kernelspec": {
   "display_name": "Python 3 (ipykernel)",
   "language": "python",
   "name": "python3"
  },
  "language_info": {
   "codemirror_mode": {
    "name": "ipython",
    "version": 3
   },
   "file_extension": ".py",
   "mimetype": "text/x-python",
   "name": "python",
   "nbconvert_exporter": "python",
   "pygments_lexer": "ipython3",
   "version": "3.10.11"
  }
 },
 "nbformat": 4,
 "nbformat_minor": 5
}
